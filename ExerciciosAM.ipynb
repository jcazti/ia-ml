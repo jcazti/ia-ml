{
  "nbformat": 4,
  "nbformat_minor": 0,
  "metadata": {
    "colab": {
      "provenance": [],
      "toc_visible": true,
      "authorship_tag": "ABX9TyO/98UmfbS1VFTVsU5HJ4Xy",
      "include_colab_link": true
    },
    "kernelspec": {
      "name": "python3",
      "display_name": "Python 3"
    },
    "language_info": {
      "name": "python"
    }
  },
  "cells": [
    {
      "cell_type": "markdown",
      "metadata": {
        "id": "view-in-github",
        "colab_type": "text"
      },
      "source": [
        "<a href=\"https://colab.research.google.com/github/jcazti/ia-ml/blob/main/ExerciciosAM.ipynb\" target=\"_parent\"><img src=\"https://colab.research.google.com/assets/colab-badge.svg\" alt=\"Open In Colab\"/></a>"
      ]
    },
    {
      "cell_type": "code",
      "execution_count": 12,
      "metadata": {
        "colab": {
          "base_uri": "https://localhost:8080/"
        },
        "id": "f4C83fgoMHhx",
        "outputId": "05df3a7e-10e1-4f00-e8a6-8ea15d57296e"
      },
      "outputs": [
        {
          "output_type": "stream",
          "name": "stdout",
          "text": [
            "Digite um número inteiro: 2\n",
            "O número é par.\n"
          ]
        }
      ],
      "source": [
        "# UFF - Introdução ao AM para Saúde\n",
        "# Exercicio 1\n",
        "numero = int(input(\"Digite um número inteiro: \"))\n",
        "\n",
        "if numero % 2 == 0:\n",
        "    print(\"O número é par.\")\n",
        "else:\n",
        "    print(\"O número é ímpar.\")\n"
      ]
    },
    {
      "cell_type": "code",
      "source": [
        "# UFF - Introdução ao AM para Saúde\n",
        "# Exercício 2\n",
        "\n",
        "peso = float(input(\"Digite seu peso (kg): \").replace(\",\", \".\"))\n",
        "altura = float(input(\"Digite sua altura (m): \").replace(\",\", \".\"))\n",
        "\n",
        "if altura <= 0:\n",
        "    print(\"Altura inválida. Digite um valor maior que zero.\")\n",
        "else:\n",
        "    imc = peso / (altura ** 2)\n",
        "    print(f\"Seu IMC é: {imc:.2f}\")\n",
        "\n",
        "\n",
        "    if imc < 18.5:\n",
        "        print(\"Classificação: abaixo do peso.\")\n",
        "    elif 18.5 <= imc <= 24.9:\n",
        "        print(\"Classificação: peso normal.\")\n",
        "    elif 25 <= imc <= 29.9:\n",
        "        print(\"Classificação: sobrepeso.\")\n",
        "    else:  # acima de 30\n",
        "        print(\"Classificação: obesidade.\")\n"
      ],
      "metadata": {
        "id": "_W2Ma4huOu4-",
        "outputId": "14100eff-1206-4e79-e883-d4d920b401a3",
        "colab": {
          "base_uri": "https://localhost:8080/"
        }
      },
      "execution_count": 5,
      "outputs": [
        {
          "output_type": "stream",
          "name": "stdout",
          "text": [
            "Digite seu peso (kg): 125\n",
            "Digite sua altura (m): 1.81\n",
            "Seu IMC é: 38.16\n",
            "Classificação: obesidade.\n"
          ]
        }
      ]
    },
    {
      "cell_type": "code",
      "source": [
        "# UFF - Introdução ao AM para Saúde\n",
        "# Exercício 3\n",
        "\n",
        "n1 = float(input(\"Digite a 1ª nota: \").replace(\",\", \".\"))\n",
        "n2 = float(input(\"Digite a 2ª nota: \").replace(\",\", \".\"))\n",
        "n3 = float(input(\"Digite a 3ª nota: \").replace(\",\", \".\"))\n",
        "\n",
        "media = (n1 + n2 + n3) / 3\n",
        "print(f\"Média: {media:.2f}\")\n",
        "\n",
        "if media >= 6.0:\n",
        "    print(\"Situação: Aprovado.\")\n",
        "else:\n",
        "    print(\"Situação: Reprovado.\")\n"
      ],
      "metadata": {
        "id": "WLeZXdTJQxSt",
        "outputId": "905c2dd1-8a93-4649-baba-1bcea5f8ac47",
        "colab": {
          "base_uri": "https://localhost:8080/"
        }
      },
      "execution_count": 11,
      "outputs": [
        {
          "output_type": "stream",
          "name": "stdout",
          "text": [
            "Digite a 1ª nota: 9\n",
            "Digite a 2ª nota: 9\n",
            "Digite a 3ª nota: 9\n",
            "Média: 9.00\n",
            "Situação: Aprovado.\n"
          ]
        }
      ]
    },
    {
      "cell_type": "code",
      "source": [
        "# UFF - Introdução ao AM para Saúde\n",
        "# Exercício 4\n",
        "\n",
        "import random\n",
        "\n",
        "numero_secreto = random.randint(1, 10)\n",
        "tentativas = 0\n",
        "\n",
        "print(\"Pensei em um número de 1 a 10. Tente adivinhar!\")\n",
        "\n",
        "while True:\n",
        "    try:\n",
        "        palpite = int(input(\"Seu palpite: \"))\n",
        "    except ValueError:\n",
        "        print(\"Digite um número inteiro válido entre 1 e 10.\")\n",
        "        continue\n",
        "\n",
        "    if palpite < 1 or palpite > 10:\n",
        "        print(\"Fora do intervalo! Digite entre 1 e 10.\")\n",
        "        continue\n",
        "\n",
        "    tentativas += 1\n",
        "\n",
        "    if palpite < numero_secreto:\n",
        "        print(\"Tente um número maior.\")\n",
        "    elif palpite > numero_secreto:\n",
        "        print(\"Tente um número menor.\")\n",
        "    else:\n",
        "        print(f\"Acertou! Você precisou de {tentativas} tentativa(s).\")\n",
        "        break\n"
      ],
      "metadata": {
        "id": "Nx3Cbg7pUXYc",
        "outputId": "ee439514-ac00-4ed3-eba9-bb1e1935c5ef",
        "colab": {
          "base_uri": "https://localhost:8080/"
        }
      },
      "execution_count": 10,
      "outputs": [
        {
          "output_type": "stream",
          "name": "stdout",
          "text": [
            "Pensei em um número de 1 a 10. Tente adivinhar!\n",
            "Seu palpite: 2\n",
            "Tente um número maior.\n",
            "Seu palpite: 3\n",
            "Tente um número maior.\n",
            "Seu palpite: 7\n",
            "Tente um número maior.\n",
            "Seu palpite: 9\n",
            "Acertou! Você precisou de 4 tentativa(s).\n"
          ]
        }
      ]
    }
  ]
}